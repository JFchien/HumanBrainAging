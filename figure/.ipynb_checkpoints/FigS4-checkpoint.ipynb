{
 "cells": [
  {
   "cell_type": "code",
   "execution_count": null,
   "id": "07e0ef80-9912-4dbe-9091-f82abc195768",
   "metadata": {},
   "outputs": [],
   "source": [
    "import pandas as pd\n",
    "import numpy as np\n",
    "import anndata as ad\n",
    "import matplotlib.pyplot as plt\n",
    "import seaborn as sns\n",
    "import glob\n",
    "import scipy as sc\n",
    "from statsmodels.stats.multitest import fdrcorrection\n",
    "import warnings\n",
    "warnings.filterwarnings(\"ignore\")\n",
    "\n",
    "plt.style.use('./plot_script/mplstyle_czi')\n",
    "import sys\n",
    "sys.path.insert(0, './plot_script/')\n",
    "import cziplot\n",
    "dpi=150"
   ]
  },
  {
   "cell_type": "code",
   "execution_count": null,
   "id": "24da0dd0-925e-4277-85f8-b1596f97a538",
   "metadata": {},
   "outputs": [],
   "source": [
    "# meta data\n",
    "cluster_meta=pd.read_csv('../data/TableS7-cell_metadata.csv.gz',index_col=0).dropna()\n",
    "cluster_meta['age']=cluster_meta['donor'].str[0]\n",
    "cluster_meta['sex']=cluster_meta['donor'].str[1]\n",
    "print(cluster_meta.shape)\n",
    "gene_meta=pd.read_csv('../data/gencode.v37.annotation.intragenic.bed.gz',\n",
    "                      names=['chr','start','end','gene_id','strand','tmp','gene_name','fn'],\n",
    "                      index_col='gene_id', sep='\\t')\n",
    "gene_meta['len']=gene_meta['end']-gene_meta['start']\n",
    "gene_meta=gene_meta[~gene_meta['chr'].isin(['chrY','chrM'])]\n",
    "genedict_nametoid=dict(zip(gene_meta.gene_name, gene_meta.index))\n",
    "genedict_idtoname=dict(zip(gene_meta.index, gene_meta.gene_name))\n",
    "level2_order=cziplot.level2_order\n",
    "level2_palette=cziplot.level2_palette"
   ]
  },
  {
   "cell_type": "markdown",
   "id": "4de96ca1-1d9d-47b2-86e0-e61d99dad57a",
   "metadata": {},
   "source": [
    "# cell type composition"
   ]
  },
  {
   "cell_type": "code",
   "execution_count": null,
   "id": "5269a588-c219-4711-986d-a849356cbb46",
   "metadata": {},
   "outputs": [],
   "source": [
    "level='level2'\n",
    "cluster_meta['demo']=cluster_meta['age']+cluster_meta['sex']\n",
    "celltype_donor_size=cluster_meta[~(cluster_meta[level].str.contains('Glia'))].groupby('donor').size().to_frame('counts')\n",
    "celltype_donor_size_dic=dict(zip(celltype_donor_size.index, celltype_donor_size.counts))\n",
    "df=cluster_meta[~(cluster_meta[level].str.contains('Glia'))].groupby(['donor',level,'demo']).size().reset_index()\n",
    "df.columns=['donor',level,'demo','number']\n",
    "df['totalcounts']=df['donor'].map(celltype_donor_size_dic)\n",
    "df['ratio']=df['number']/df['totalcounts']\n",
    "\n",
    "plt.figure(figsize=(8,3),dpi=dpi)\n",
    "sns.boxplot(x=level,y='ratio',data=df,hue='demo',hue_order=cziplot.demo_order,order=cziplot.level2_order_full[0:-3],showfliers=False,\n",
    "              palette=cziplot.demo_palette,\n",
    "             linewidth=0.5)\n",
    "plt.xticks(rotation=90)\n",
    "plt.ylabel('cell type composition')\n",
    "plt.grid(axis='y')\n",
    "pall=[]\n",
    "for i in cziplot.level2_order_full[0:-3]:\n",
    "    s,p=sc.stats.ranksums(df[(df['demo'].isin(['AM','AF']))&(df[level]==i)]['ratio'],df[(df['demo'].isin(['YM','YF']))&(df[level]==i)]['ratio'])\n",
    "    pall.append(p)\n",
    "    if (p < 0.05) & (s<1):\n",
    "        r=df[(df['demo'].isin(['YM','YF']))&(df[level]==i)]['ratio'].mean()/df[(df['demo'].isin(['AM','AF']))&(df[level]==i)]['ratio'].mean()\n",
    "    if (p < 0.05) & (s>1):\n",
    "        r=df[(df['demo'].isin(['AM','AF']))&(df[level]==i)]['ratio'].mean()/df[(df['demo'].isin(['YM','YF']))&(df[level]==i)]['ratio'].mean()\n",
    "fdr=fdrcorrection(pall,method='poscorr')\n",
    "pd.DataFrame(index=cziplot.level2_order_full[0:-3],columns=['fdr'],data=fdr[1]).sort_values('fdr')"
   ]
  },
  {
   "cell_type": "markdown",
   "id": "aee4b10d-c2aa-437d-b529-d069bff9cee7",
   "metadata": {},
   "source": [
    "# global methylation"
   ]
  },
  {
   "cell_type": "code",
   "execution_count": null,
   "id": "486f6667-2276-4fff-a469-b89c612fa091",
   "metadata": {},
   "outputs": [],
   "source": [
    "globalm=pd.read_csv('../data/globalMethylation_autosome_rmSNPs.txt',sep='\\t',index_col=0)\n",
    "globalm['celltype']=globalm.index.str.rsplit('-',1).str[0]\n",
    "globalm['donor']=globalm.index.str.rsplit('-',1).str[1]\n",
    "globalm['age']=globalm['donor'].str[0] \n",
    "\n",
    "plt.figure(figsize=(8,3),dpi=dpi)\n",
    "ax=sns.boxplot(data=globalm, x=\"celltype\", y=\"mCGlevel\",order=cziplot.level2_order,hue='age',hue_order=['Y','A'],palette=cziplot.age_palette,showfliers=False)\n",
    "plt.tick_params(axis='x', rotation=90)\n",
    "plt.grid(axis='y')\n",
    "df=pd.DataFrame(index=cziplot.level2_order,columns=['p'])\n",
    "for i in cziplot.level2_order:\n",
    "    globalm_sub=globalm[globalm['celltype']==i]\n",
    "    s,p=sc.stats.ranksums(globalm_sub[globalm_sub['age']=='A']['mCGlevel'],globalm_sub[globalm_sub['age']=='Y']['mCGlevel'])\n",
    "    df.loc[i,'p']=p\n",
    "_,df['FDR']=fdrcorrection(df['p'], method='indep', is_sorted=False)\n",
    "\n",
    "df['sig']=''\n",
    "df.loc[df['FDR']<0.2,'sig']='*'\n",
    "stat=df['sig']\n",
    "pos = range(len(stat))\n",
    "for tick,label in zip(pos,ax.get_xticklabels()):\n",
    "    ax.text(pos[tick],\n",
    "            0.85,\n",
    "            stat[tick],\n",
    "            horizontalalignment='center',\n",
    "            size=12) \n",
    "df.sort_values('FDR')"
   ]
  },
  {
   "cell_type": "code",
   "execution_count": null,
   "id": "2eed79a6-10a9-401b-b2ba-0fd16a5abafa",
   "metadata": {},
   "outputs": [],
   "source": [
    "plt.figure(figsize=(8,3),dpi=dpi)\n",
    "ax=sns.boxplot(data=globalm, x=\"celltype\", y=\"mCHlevel\",order=cziplot.level2_order,hue='age',hue_order=['Y','A'],palette=cziplot.age_palette,showfliers=False)\n",
    "plt.tick_params(axis='x', rotation=90)\n",
    "plt.grid(axis='y')\n",
    "df=pd.DataFrame(index=cziplot.level2_order,columns=['p'])\n",
    "for i in cziplot.level2_order:\n",
    "    globalm_sub=globalm[globalm['celltype']==i]\n",
    "    s,p=sc.stats.ranksums(globalm_sub[globalm_sub['age']=='A']['mCHlevel'],globalm_sub[globalm_sub['age']=='Y']['mCHlevel'])\n",
    "    df.loc[i,'p']=p\n",
    "_,df['FDR']=fdrcorrection(df['p'], method='indep', is_sorted=False)\n",
    "\n",
    "df['sig']=''\n",
    "df.loc[df['FDR']<0.2,'sig']='*'\n",
    "stat=df['sig']\n",
    "pos = range(len(stat))\n",
    "for tick,label in zip(pos,ax.get_xticklabels()):\n",
    "    ax.text(pos[tick],\n",
    "            0.85,\n",
    "            stat[tick],\n",
    "            horizontalalignment='center',\n",
    "            size=12) \n",
    "df.sort_values('FDR')"
   ]
  },
  {
   "cell_type": "code",
   "execution_count": null,
   "id": "ae9ae7d4-a1a9-4209-8cee-9af08381c07e",
   "metadata": {},
   "outputs": [],
   "source": [
    "plt.figure(figsize=(8,3),dpi=dpi)\n",
    "ax=sns.boxplot(data=globalm, x=\"celltype\", y=\"mCAlevel\",order=cziplot.level2_order,hue='age',hue_order=['Y','A'],palette=cziplot.age_palette,showfliers=False)\n",
    "plt.tick_params(axis='x', rotation=90)\n",
    "plt.grid(axis='y')\n",
    "df=pd.DataFrame(index=cziplot.level2_order,columns=['p'])\n",
    "for i in cziplot.level2_order:\n",
    "    globalm_sub=globalm[globalm['celltype']==i]\n",
    "    s,p=sc.stats.ranksums(globalm_sub[globalm_sub['age']=='A']['mCHlevel'],globalm_sub[globalm_sub['age']=='Y']['mCHlevel'])\n",
    "    df.loc[i,'p']=p\n",
    "_,df['FDR']=fdrcorrection(df['p'], method='indep', is_sorted=False)\n",
    "\n",
    "df['sig']=''\n",
    "df.loc[df['FDR']<0.2,'sig']='*'\n",
    "stat=df['sig']\n",
    "pos = range(len(stat))\n",
    "for tick,label in zip(pos,ax.get_xticklabels()):\n",
    "    ax.text(pos[tick],\n",
    "            0.85,\n",
    "            stat[tick],\n",
    "            horizontalalignment='center',\n",
    "            size=12) \n",
    "df.sort_values('FDR')"
   ]
  },
  {
   "cell_type": "markdown",
   "id": "c3b8f6d0-f957-4cdb-a234-3fe992826bfa",
   "metadata": {},
   "source": [
    "# compare with GTEx"
   ]
  },
  {
   "cell_type": "code",
   "execution_count": null,
   "id": "fe9995c2-7105-4253-9bdf-5023cfb24796",
   "metadata": {},
   "outputs": [],
   "source": [
    "! wget -O /scratch/Dong_Cell2021_ageDEGs.xlsx https://www.ncbi.nlm.nih.gov/pmc/articles/PMC8208793/bin/ACEL-20-e13357-s002.xlsx  --no-check-certificate"
   ]
  },
  {
   "cell_type": "code",
   "execution_count": null,
   "id": "00147e4a-00df-413b-9965-21ab092d5769",
   "metadata": {},
   "outputs": [],
   "source": [
    "# DEs\n",
    "fcthres=np.log2(1.2)\n",
    "pthres=0.05\n",
    "\n",
    "fulldata=pd.read_csv('./data/ageDEall.tsv.gz',sep='\\t',index_col=0)\n",
    "fulldata=fulldata[fulldata['celltype'].isin(cziplot.level2_order)]\n",
    "data=fulldata[(fulldata['adj.P.Val']<pthres) & (np.abs(fulldata['logFC'])>fcthres)]\n",
    "\n",
    "gtex=pd.read_excel('/scratch/Dong_Cell2021_ageDEGs.xlsx',sheet_name='Table S1',skiprows=1)\n",
    "gtex_age_degs = gtex.merge(data,left_on='Gene name',right_on='gene_name')\n",
    "gtex_age_degs['RNA logFC sign']=(gtex_age_degs['logFC']>0).map({True:'Up-regulated',False:'Down-regulated'})\n",
    "\n",
    "df_show = gtex_age_degs[(gtex_age_degs['Tissue'].str.contains('Brain'))&~(gtex_age_degs['Tissue'].str.contains('Hemisphere'))]\n",
    "df_show['celltype']=df_show['celltype'].astype('category')\n",
    "df_show['celltype'] = pd.Categorical(df_show['celltype'],categories=cziplot.level2_order,ordered=True)\n",
    "\n",
    "fig=plt.figure(figsize=(5,3),dpi=dpi)\n",
    "ax=sns.histplot(df_show,y='celltype',hue='Tissue',multiple='stack')\n",
    "ax.set_xlabel('Num. overlapping genes in GTEx (Dong et al.) with our study')\n",
    "ax.grid(axis='x')"
   ]
  }
 ],
 "metadata": {
  "kernelspec": {
   "display_name": "Python 3 (ipykernel)",
   "language": "python",
   "name": "python3"
  },
  "language_info": {
   "codemirror_mode": {
    "name": "ipython",
    "version": 3
   },
   "file_extension": ".py",
   "mimetype": "text/x-python",
   "name": "python",
   "nbconvert_exporter": "python",
   "pygments_lexer": "ipython3",
   "version": "3.8.12"
  }
 },
 "nbformat": 4,
 "nbformat_minor": 5
}
